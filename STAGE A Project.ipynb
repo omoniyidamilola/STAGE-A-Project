{
 "cells": [
  {
   "cell_type": "markdown",
   "id": "4927733a",
   "metadata": {},
   "source": [
    "## Introduction to Python for machine learning\n",
    "\n",
    "The Food Balance Sheet Dataset is from the Food and Agriculture Organization of the United Nations."
   ]
  },
  {
   "cell_type": "markdown",
   "id": "1aad0bd1",
   "metadata": {},
   "source": [
    "### Features of the dataset\n",
    "\n",
    "Area Code : This specifies the code of the country.\n",
    "\n",
    "Area : This column contains the country names.\n",
    "\n",
    "Item Code : This is code of the product.\n",
    "\n",
    "Item : This specifies the name of the products being produced.\n",
    "\n",
    "Element Code : This is the code of element.\n",
    "\n",
    "Element : This specifies the name of the element being measured.\n",
    "\n",
    "Unit : This is the unit of measurement.\n",
    "\n",
    "Y2014 : This column contains the  values of 2014.\n",
    "\n",
    "Y2015 : This column contains the  values of 2015.\n",
    "\n",
    "Y2016 : This column contains the  values of 2016.\n",
    "\n",
    "Y2017 : This column contains the  values of 2017.\n",
    "\n",
    "Y2018 : This column contains the  values of 2018."
   ]
  },
  {
   "cell_type": "markdown",
   "id": "65f6b481",
   "metadata": {},
   "source": [
    "## Questions to be Answered\n",
    "\n",
    "(a) What is the mean and standard deviation across the whole dataset for the year 2017 to 2 decimal places?\n",
    "\n",
    "(b) What is the total number and percentage of missing data in 2014 to 3 decimal places?\n",
    "\n",
    "(c) What is the Total number of unique countries in the dataset?\n",
    "\n",
    "(d) Which of these Area had the highest sum in 2017.\n",
    "\n",
    "(e) What is the total number of the sum of Processing in 2017?\n",
    "\n",
    "(f) Which of these Areas had the 7th lowest sum in 2017.\n",
    "\n",
    "(g) What year has the highest sum of Stock Variation?\n",
    " \n",
    "(h) What is the total Protein supply quantity in Madagascar in 2015?\n",
    "\n",
    "(i) Which year had the least correlation with Element Code.\n",
    "\n",
    "(j) What is the total sum of Wine produced in 2015 and 2018?"
   ]
  },
  {
   "cell_type": "markdown",
   "id": "57c9408b",
   "metadata": {},
   "source": [
    "## Importing Libraries"
   ]
  },
  {
   "cell_type": "code",
   "execution_count": 1,
   "id": "a6171dcc",
   "metadata": {},
   "outputs": [],
   "source": [
    "import numpy as np\n",
    "import pandas as pd\n",
    "import matplotlib.pyplot as plt\n",
    "import seaborn as sns"
   ]
  },
  {
   "cell_type": "code",
   "execution_count": 2,
   "id": "3e10a6a1",
   "metadata": {},
   "outputs": [],
   "source": [
    "#load dataset \n",
    "df = pd.read_csv(\"FoodBalanceSheets_E_Africa_NOFLAG.csv\", encoding = \"latin_1\")"
   ]
  },
  {
   "cell_type": "code",
   "execution_count": 3,
   "id": "b38c7acb",
   "metadata": {
    "scrolled": false
   },
   "outputs": [
    {
     "data": {
      "text/html": [
       "<div>\n",
       "<style scoped>\n",
       "    .dataframe tbody tr th:only-of-type {\n",
       "        vertical-align: middle;\n",
       "    }\n",
       "\n",
       "    .dataframe tbody tr th {\n",
       "        vertical-align: top;\n",
       "    }\n",
       "\n",
       "    .dataframe thead th {\n",
       "        text-align: right;\n",
       "    }\n",
       "</style>\n",
       "<table border=\"1\" class=\"dataframe\">\n",
       "  <thead>\n",
       "    <tr style=\"text-align: right;\">\n",
       "      <th></th>\n",
       "      <th>Area Code</th>\n",
       "      <th>Area</th>\n",
       "      <th>Item Code</th>\n",
       "      <th>Item</th>\n",
       "      <th>Element Code</th>\n",
       "      <th>Element</th>\n",
       "      <th>Unit</th>\n",
       "      <th>Y2014</th>\n",
       "      <th>Y2015</th>\n",
       "      <th>Y2016</th>\n",
       "      <th>Y2017</th>\n",
       "      <th>Y2018</th>\n",
       "    </tr>\n",
       "  </thead>\n",
       "  <tbody>\n",
       "    <tr>\n",
       "      <th>0</th>\n",
       "      <td>4</td>\n",
       "      <td>Algeria</td>\n",
       "      <td>2501</td>\n",
       "      <td>Population</td>\n",
       "      <td>511</td>\n",
       "      <td>Total Population - Both sexes</td>\n",
       "      <td>1000 persons</td>\n",
       "      <td>38924.00</td>\n",
       "      <td>39728.00</td>\n",
       "      <td>40551.00</td>\n",
       "      <td>41389.00</td>\n",
       "      <td>42228.00</td>\n",
       "    </tr>\n",
       "    <tr>\n",
       "      <th>1</th>\n",
       "      <td>4</td>\n",
       "      <td>Algeria</td>\n",
       "      <td>2501</td>\n",
       "      <td>Population</td>\n",
       "      <td>5301</td>\n",
       "      <td>Domestic supply quantity</td>\n",
       "      <td>1000 tonnes</td>\n",
       "      <td>0.00</td>\n",
       "      <td>0.00</td>\n",
       "      <td>0.00</td>\n",
       "      <td>0.00</td>\n",
       "      <td>0.00</td>\n",
       "    </tr>\n",
       "    <tr>\n",
       "      <th>2</th>\n",
       "      <td>4</td>\n",
       "      <td>Algeria</td>\n",
       "      <td>2901</td>\n",
       "      <td>Grand Total</td>\n",
       "      <td>664</td>\n",
       "      <td>Food supply (kcal/capita/day)</td>\n",
       "      <td>kcal/capita/day</td>\n",
       "      <td>3377.00</td>\n",
       "      <td>3379.00</td>\n",
       "      <td>3372.00</td>\n",
       "      <td>3341.00</td>\n",
       "      <td>3322.00</td>\n",
       "    </tr>\n",
       "    <tr>\n",
       "      <th>3</th>\n",
       "      <td>4</td>\n",
       "      <td>Algeria</td>\n",
       "      <td>2901</td>\n",
       "      <td>Grand Total</td>\n",
       "      <td>674</td>\n",
       "      <td>Protein supply quantity (g/capita/day)</td>\n",
       "      <td>g/capita/day</td>\n",
       "      <td>94.90</td>\n",
       "      <td>94.35</td>\n",
       "      <td>94.72</td>\n",
       "      <td>92.82</td>\n",
       "      <td>91.83</td>\n",
       "    </tr>\n",
       "    <tr>\n",
       "      <th>4</th>\n",
       "      <td>4</td>\n",
       "      <td>Algeria</td>\n",
       "      <td>2901</td>\n",
       "      <td>Grand Total</td>\n",
       "      <td>684</td>\n",
       "      <td>Fat supply quantity (g/capita/day)</td>\n",
       "      <td>g/capita/day</td>\n",
       "      <td>80.06</td>\n",
       "      <td>79.36</td>\n",
       "      <td>77.40</td>\n",
       "      <td>80.19</td>\n",
       "      <td>77.28</td>\n",
       "    </tr>\n",
       "    <tr>\n",
       "      <th>...</th>\n",
       "      <td>...</td>\n",
       "      <td>...</td>\n",
       "      <td>...</td>\n",
       "      <td>...</td>\n",
       "      <td>...</td>\n",
       "      <td>...</td>\n",
       "      <td>...</td>\n",
       "      <td>...</td>\n",
       "      <td>...</td>\n",
       "      <td>...</td>\n",
       "      <td>...</td>\n",
       "      <td>...</td>\n",
       "    </tr>\n",
       "    <tr>\n",
       "      <th>60938</th>\n",
       "      <td>181</td>\n",
       "      <td>Zimbabwe</td>\n",
       "      <td>2899</td>\n",
       "      <td>Miscellaneous</td>\n",
       "      <td>5142</td>\n",
       "      <td>Food</td>\n",
       "      <td>1000 tonnes</td>\n",
       "      <td>42.00</td>\n",
       "      <td>46.00</td>\n",
       "      <td>33.00</td>\n",
       "      <td>19.00</td>\n",
       "      <td>16.00</td>\n",
       "    </tr>\n",
       "    <tr>\n",
       "      <th>60939</th>\n",
       "      <td>181</td>\n",
       "      <td>Zimbabwe</td>\n",
       "      <td>2899</td>\n",
       "      <td>Miscellaneous</td>\n",
       "      <td>645</td>\n",
       "      <td>Food supply quantity (kg/capita/yr)</td>\n",
       "      <td>kg</td>\n",
       "      <td>3.06</td>\n",
       "      <td>3.33</td>\n",
       "      <td>2.35</td>\n",
       "      <td>1.33</td>\n",
       "      <td>1.08</td>\n",
       "    </tr>\n",
       "    <tr>\n",
       "      <th>60940</th>\n",
       "      <td>181</td>\n",
       "      <td>Zimbabwe</td>\n",
       "      <td>2899</td>\n",
       "      <td>Miscellaneous</td>\n",
       "      <td>664</td>\n",
       "      <td>Food supply (kcal/capita/day)</td>\n",
       "      <td>kcal/capita/day</td>\n",
       "      <td>3.00</td>\n",
       "      <td>4.00</td>\n",
       "      <td>3.00</td>\n",
       "      <td>1.00</td>\n",
       "      <td>1.00</td>\n",
       "    </tr>\n",
       "    <tr>\n",
       "      <th>60941</th>\n",
       "      <td>181</td>\n",
       "      <td>Zimbabwe</td>\n",
       "      <td>2899</td>\n",
       "      <td>Miscellaneous</td>\n",
       "      <td>674</td>\n",
       "      <td>Protein supply quantity (g/capita/day)</td>\n",
       "      <td>g/capita/day</td>\n",
       "      <td>0.10</td>\n",
       "      <td>0.11</td>\n",
       "      <td>0.08</td>\n",
       "      <td>0.04</td>\n",
       "      <td>0.04</td>\n",
       "    </tr>\n",
       "    <tr>\n",
       "      <th>60942</th>\n",
       "      <td>181</td>\n",
       "      <td>Zimbabwe</td>\n",
       "      <td>2899</td>\n",
       "      <td>Miscellaneous</td>\n",
       "      <td>684</td>\n",
       "      <td>Fat supply quantity (g/capita/day)</td>\n",
       "      <td>g/capita/day</td>\n",
       "      <td>0.04</td>\n",
       "      <td>0.05</td>\n",
       "      <td>0.03</td>\n",
       "      <td>0.02</td>\n",
       "      <td>0.01</td>\n",
       "    </tr>\n",
       "  </tbody>\n",
       "</table>\n",
       "<p>60943 rows × 12 columns</p>\n",
       "</div>"
      ],
      "text/plain": [
       "       Area Code      Area  Item Code           Item  Element Code  \\\n",
       "0              4   Algeria       2501     Population           511   \n",
       "1              4   Algeria       2501     Population          5301   \n",
       "2              4   Algeria       2901    Grand Total           664   \n",
       "3              4   Algeria       2901    Grand Total           674   \n",
       "4              4   Algeria       2901    Grand Total           684   \n",
       "...          ...       ...        ...            ...           ...   \n",
       "60938        181  Zimbabwe       2899  Miscellaneous          5142   \n",
       "60939        181  Zimbabwe       2899  Miscellaneous           645   \n",
       "60940        181  Zimbabwe       2899  Miscellaneous           664   \n",
       "60941        181  Zimbabwe       2899  Miscellaneous           674   \n",
       "60942        181  Zimbabwe       2899  Miscellaneous           684   \n",
       "\n",
       "                                      Element             Unit     Y2014  \\\n",
       "0               Total Population - Both sexes     1000 persons  38924.00   \n",
       "1                    Domestic supply quantity      1000 tonnes      0.00   \n",
       "2               Food supply (kcal/capita/day)  kcal/capita/day   3377.00   \n",
       "3      Protein supply quantity (g/capita/day)     g/capita/day     94.90   \n",
       "4          Fat supply quantity (g/capita/day)     g/capita/day     80.06   \n",
       "...                                       ...              ...       ...   \n",
       "60938                                    Food      1000 tonnes     42.00   \n",
       "60939     Food supply quantity (kg/capita/yr)               kg      3.06   \n",
       "60940           Food supply (kcal/capita/day)  kcal/capita/day      3.00   \n",
       "60941  Protein supply quantity (g/capita/day)     g/capita/day      0.10   \n",
       "60942      Fat supply quantity (g/capita/day)     g/capita/day      0.04   \n",
       "\n",
       "          Y2015     Y2016     Y2017     Y2018  \n",
       "0      39728.00  40551.00  41389.00  42228.00  \n",
       "1          0.00      0.00      0.00      0.00  \n",
       "2       3379.00   3372.00   3341.00   3322.00  \n",
       "3         94.35     94.72     92.82     91.83  \n",
       "4         79.36     77.40     80.19     77.28  \n",
       "...         ...       ...       ...       ...  \n",
       "60938     46.00     33.00     19.00     16.00  \n",
       "60939      3.33      2.35      1.33      1.08  \n",
       "60940      4.00      3.00      1.00      1.00  \n",
       "60941      0.11      0.08      0.04      0.04  \n",
       "60942      0.05      0.03      0.02      0.01  \n",
       "\n",
       "[60943 rows x 12 columns]"
      ]
     },
     "execution_count": 3,
     "metadata": {},
     "output_type": "execute_result"
    }
   ],
   "source": [
    "#Calling out the dataset after loading it. \n",
    "df"
   ]
  },
  {
   "cell_type": "code",
   "execution_count": 4,
   "id": "d0dd9b95",
   "metadata": {
    "scrolled": false
   },
   "outputs": [
    {
     "data": {
      "text/html": [
       "<div>\n",
       "<style scoped>\n",
       "    .dataframe tbody tr th:only-of-type {\n",
       "        vertical-align: middle;\n",
       "    }\n",
       "\n",
       "    .dataframe tbody tr th {\n",
       "        vertical-align: top;\n",
       "    }\n",
       "\n",
       "    .dataframe thead th {\n",
       "        text-align: right;\n",
       "    }\n",
       "</style>\n",
       "<table border=\"1\" class=\"dataframe\">\n",
       "  <thead>\n",
       "    <tr style=\"text-align: right;\">\n",
       "      <th></th>\n",
       "      <th>Area Code</th>\n",
       "      <th>Area</th>\n",
       "      <th>Item Code</th>\n",
       "      <th>Item</th>\n",
       "      <th>Element Code</th>\n",
       "      <th>Element</th>\n",
       "      <th>Unit</th>\n",
       "      <th>Y2014</th>\n",
       "      <th>Y2015</th>\n",
       "      <th>Y2016</th>\n",
       "      <th>Y2017</th>\n",
       "      <th>Y2018</th>\n",
       "    </tr>\n",
       "  </thead>\n",
       "  <tbody>\n",
       "    <tr>\n",
       "      <th>0</th>\n",
       "      <td>4</td>\n",
       "      <td>Algeria</td>\n",
       "      <td>2501</td>\n",
       "      <td>Population</td>\n",
       "      <td>511</td>\n",
       "      <td>Total Population - Both sexes</td>\n",
       "      <td>1000 persons</td>\n",
       "      <td>38924.00</td>\n",
       "      <td>39728.00</td>\n",
       "      <td>40551.00</td>\n",
       "      <td>41389.00</td>\n",
       "      <td>42228.00</td>\n",
       "    </tr>\n",
       "    <tr>\n",
       "      <th>1</th>\n",
       "      <td>4</td>\n",
       "      <td>Algeria</td>\n",
       "      <td>2501</td>\n",
       "      <td>Population</td>\n",
       "      <td>5301</td>\n",
       "      <td>Domestic supply quantity</td>\n",
       "      <td>1000 tonnes</td>\n",
       "      <td>0.00</td>\n",
       "      <td>0.00</td>\n",
       "      <td>0.00</td>\n",
       "      <td>0.00</td>\n",
       "      <td>0.00</td>\n",
       "    </tr>\n",
       "    <tr>\n",
       "      <th>2</th>\n",
       "      <td>4</td>\n",
       "      <td>Algeria</td>\n",
       "      <td>2901</td>\n",
       "      <td>Grand Total</td>\n",
       "      <td>664</td>\n",
       "      <td>Food supply (kcal/capita/day)</td>\n",
       "      <td>kcal/capita/day</td>\n",
       "      <td>3377.00</td>\n",
       "      <td>3379.00</td>\n",
       "      <td>3372.00</td>\n",
       "      <td>3341.00</td>\n",
       "      <td>3322.00</td>\n",
       "    </tr>\n",
       "    <tr>\n",
       "      <th>3</th>\n",
       "      <td>4</td>\n",
       "      <td>Algeria</td>\n",
       "      <td>2901</td>\n",
       "      <td>Grand Total</td>\n",
       "      <td>674</td>\n",
       "      <td>Protein supply quantity (g/capita/day)</td>\n",
       "      <td>g/capita/day</td>\n",
       "      <td>94.90</td>\n",
       "      <td>94.35</td>\n",
       "      <td>94.72</td>\n",
       "      <td>92.82</td>\n",
       "      <td>91.83</td>\n",
       "    </tr>\n",
       "    <tr>\n",
       "      <th>4</th>\n",
       "      <td>4</td>\n",
       "      <td>Algeria</td>\n",
       "      <td>2901</td>\n",
       "      <td>Grand Total</td>\n",
       "      <td>684</td>\n",
       "      <td>Fat supply quantity (g/capita/day)</td>\n",
       "      <td>g/capita/day</td>\n",
       "      <td>80.06</td>\n",
       "      <td>79.36</td>\n",
       "      <td>77.40</td>\n",
       "      <td>80.19</td>\n",
       "      <td>77.28</td>\n",
       "    </tr>\n",
       "  </tbody>\n",
       "</table>\n",
       "</div>"
      ],
      "text/plain": [
       "   Area Code     Area  Item Code         Item  Element Code  \\\n",
       "0          4  Algeria       2501   Population           511   \n",
       "1          4  Algeria       2501   Population          5301   \n",
       "2          4  Algeria       2901  Grand Total           664   \n",
       "3          4  Algeria       2901  Grand Total           674   \n",
       "4          4  Algeria       2901  Grand Total           684   \n",
       "\n",
       "                                  Element             Unit     Y2014  \\\n",
       "0           Total Population - Both sexes     1000 persons  38924.00   \n",
       "1                Domestic supply quantity      1000 tonnes      0.00   \n",
       "2           Food supply (kcal/capita/day)  kcal/capita/day   3377.00   \n",
       "3  Protein supply quantity (g/capita/day)     g/capita/day     94.90   \n",
       "4      Fat supply quantity (g/capita/day)     g/capita/day     80.06   \n",
       "\n",
       "      Y2015     Y2016     Y2017     Y2018  \n",
       "0  39728.00  40551.00  41389.00  42228.00  \n",
       "1      0.00      0.00      0.00      0.00  \n",
       "2   3379.00   3372.00   3341.00   3322.00  \n",
       "3     94.35     94.72     92.82     91.83  \n",
       "4     79.36     77.40     80.19     77.28  "
      ]
     },
     "execution_count": 4,
     "metadata": {},
     "output_type": "execute_result"
    }
   ],
   "source": [
    "#preview the dataset\n",
    "df.head()"
   ]
  },
  {
   "cell_type": "code",
   "execution_count": 5,
   "id": "c5022525",
   "metadata": {},
   "outputs": [],
   "source": [
    "#selecting numerical dataframe.\n",
    "numerical_df = df.select_dtypes(include = [int, float])"
   ]
  },
  {
   "cell_type": "code",
   "execution_count": 6,
   "id": "5e890569",
   "metadata": {
    "scrolled": true
   },
   "outputs": [
    {
     "name": "stdout",
     "output_type": "stream",
     "text": [
      "<class 'pandas.core.frame.DataFrame'>\n",
      "RangeIndex: 60943 entries, 0 to 60942\n",
      "Data columns (total 12 columns):\n",
      " #   Column        Non-Null Count  Dtype  \n",
      "---  ------        --------------  -----  \n",
      " 0   Area Code     60943 non-null  int64  \n",
      " 1   Area          60943 non-null  object \n",
      " 2   Item Code     60943 non-null  int64  \n",
      " 3   Item          60943 non-null  object \n",
      " 4   Element Code  60943 non-null  int64  \n",
      " 5   Element       60943 non-null  object \n",
      " 6   Unit          60943 non-null  object \n",
      " 7   Y2014         59354 non-null  float64\n",
      " 8   Y2015         59395 non-null  float64\n",
      " 9   Y2016         59408 non-null  float64\n",
      " 10  Y2017         59437 non-null  float64\n",
      " 11  Y2018         59507 non-null  float64\n",
      "dtypes: float64(5), int64(3), object(4)\n",
      "memory usage: 5.6+ MB\n"
     ]
    }
   ],
   "source": [
    "#.info() function is used to understand the data types, numbers of columns, number of rows and memory storage of the data.\n",
    "df.info()"
   ]
  },
  {
   "cell_type": "code",
   "execution_count": 7,
   "id": "c533753f",
   "metadata": {},
   "outputs": [],
   "source": [
    "#categorical data frame\n",
    "categorical = df.select_dtypes(exclude = [int, float])"
   ]
  },
  {
   "cell_type": "code",
   "execution_count": 8,
   "id": "673c0c79",
   "metadata": {},
   "outputs": [
    {
     "name": "stdout",
     "output_type": "stream",
     "text": [
      "<class 'pandas.core.frame.DataFrame'>\n",
      "RangeIndex: 60943 entries, 0 to 60942\n",
      "Data columns (total 4 columns):\n",
      " #   Column   Non-Null Count  Dtype \n",
      "---  ------   --------------  ----- \n",
      " 0   Area     60943 non-null  object\n",
      " 1   Item     60943 non-null  object\n",
      " 2   Element  60943 non-null  object\n",
      " 3   Unit     60943 non-null  object\n",
      "dtypes: object(4)\n",
      "memory usage: 1.9+ MB\n"
     ]
    }
   ],
   "source": [
    "categorical.info()"
   ]
  },
  {
   "cell_type": "code",
   "execution_count": 9,
   "id": "f37c94eb",
   "metadata": {
    "scrolled": false
   },
   "outputs": [
    {
     "data": {
      "text/html": [
       "<div>\n",
       "<style scoped>\n",
       "    .dataframe tbody tr th:only-of-type {\n",
       "        vertical-align: middle;\n",
       "    }\n",
       "\n",
       "    .dataframe tbody tr th {\n",
       "        vertical-align: top;\n",
       "    }\n",
       "\n",
       "    .dataframe thead th {\n",
       "        text-align: right;\n",
       "    }\n",
       "</style>\n",
       "<table border=\"1\" class=\"dataframe\">\n",
       "  <thead>\n",
       "    <tr style=\"text-align: right;\">\n",
       "      <th></th>\n",
       "      <th>Area Code</th>\n",
       "      <th>Item Code</th>\n",
       "      <th>Element Code</th>\n",
       "      <th>Y2014</th>\n",
       "      <th>Y2015</th>\n",
       "      <th>Y2016</th>\n",
       "      <th>Y2017</th>\n",
       "      <th>Y2018</th>\n",
       "    </tr>\n",
       "  </thead>\n",
       "  <tbody>\n",
       "    <tr>\n",
       "      <th>count</th>\n",
       "      <td>60943.000000</td>\n",
       "      <td>60943.000000</td>\n",
       "      <td>60943.000000</td>\n",
       "      <td>59354.000000</td>\n",
       "      <td>59395.000000</td>\n",
       "      <td>59408.000000</td>\n",
       "      <td>59437.000000</td>\n",
       "      <td>59507.000000</td>\n",
       "    </tr>\n",
       "    <tr>\n",
       "      <th>mean</th>\n",
       "      <td>134.265576</td>\n",
       "      <td>2687.176706</td>\n",
       "      <td>3814.856456</td>\n",
       "      <td>134.196282</td>\n",
       "      <td>135.235966</td>\n",
       "      <td>136.555222</td>\n",
       "      <td>140.917765</td>\n",
       "      <td>143.758381</td>\n",
       "    </tr>\n",
       "    <tr>\n",
       "      <th>std</th>\n",
       "      <td>72.605709</td>\n",
       "      <td>146.055739</td>\n",
       "      <td>2212.007033</td>\n",
       "      <td>1567.663696</td>\n",
       "      <td>1603.403984</td>\n",
       "      <td>1640.007194</td>\n",
       "      <td>1671.862359</td>\n",
       "      <td>1710.782658</td>\n",
       "    </tr>\n",
       "    <tr>\n",
       "      <th>min</th>\n",
       "      <td>4.000000</td>\n",
       "      <td>2501.000000</td>\n",
       "      <td>511.000000</td>\n",
       "      <td>-1796.000000</td>\n",
       "      <td>-3161.000000</td>\n",
       "      <td>-3225.000000</td>\n",
       "      <td>-1582.000000</td>\n",
       "      <td>-3396.000000</td>\n",
       "    </tr>\n",
       "    <tr>\n",
       "      <th>25%</th>\n",
       "      <td>74.000000</td>\n",
       "      <td>2562.000000</td>\n",
       "      <td>684.000000</td>\n",
       "      <td>0.000000</td>\n",
       "      <td>0.000000</td>\n",
       "      <td>0.000000</td>\n",
       "      <td>0.000000</td>\n",
       "      <td>0.000000</td>\n",
       "    </tr>\n",
       "    <tr>\n",
       "      <th>50%</th>\n",
       "      <td>136.000000</td>\n",
       "      <td>2630.000000</td>\n",
       "      <td>5142.000000</td>\n",
       "      <td>0.090000</td>\n",
       "      <td>0.080000</td>\n",
       "      <td>0.080000</td>\n",
       "      <td>0.100000</td>\n",
       "      <td>0.070000</td>\n",
       "    </tr>\n",
       "    <tr>\n",
       "      <th>75%</th>\n",
       "      <td>195.000000</td>\n",
       "      <td>2775.000000</td>\n",
       "      <td>5511.000000</td>\n",
       "      <td>8.340000</td>\n",
       "      <td>8.460000</td>\n",
       "      <td>8.430000</td>\n",
       "      <td>9.000000</td>\n",
       "      <td>9.000000</td>\n",
       "    </tr>\n",
       "    <tr>\n",
       "      <th>max</th>\n",
       "      <td>276.000000</td>\n",
       "      <td>2961.000000</td>\n",
       "      <td>5911.000000</td>\n",
       "      <td>176405.000000</td>\n",
       "      <td>181137.000000</td>\n",
       "      <td>185960.000000</td>\n",
       "      <td>190873.000000</td>\n",
       "      <td>195875.000000</td>\n",
       "    </tr>\n",
       "  </tbody>\n",
       "</table>\n",
       "</div>"
      ],
      "text/plain": [
       "          Area Code     Item Code  Element Code          Y2014          Y2015  \\\n",
       "count  60943.000000  60943.000000  60943.000000   59354.000000   59395.000000   \n",
       "mean     134.265576   2687.176706   3814.856456     134.196282     135.235966   \n",
       "std       72.605709    146.055739   2212.007033    1567.663696    1603.403984   \n",
       "min        4.000000   2501.000000    511.000000   -1796.000000   -3161.000000   \n",
       "25%       74.000000   2562.000000    684.000000       0.000000       0.000000   \n",
       "50%      136.000000   2630.000000   5142.000000       0.090000       0.080000   \n",
       "75%      195.000000   2775.000000   5511.000000       8.340000       8.460000   \n",
       "max      276.000000   2961.000000   5911.000000  176405.000000  181137.000000   \n",
       "\n",
       "               Y2016          Y2017          Y2018  \n",
       "count   59408.000000   59437.000000   59507.000000  \n",
       "mean      136.555222     140.917765     143.758381  \n",
       "std      1640.007194    1671.862359    1710.782658  \n",
       "min     -3225.000000   -1582.000000   -3396.000000  \n",
       "25%         0.000000       0.000000       0.000000  \n",
       "50%         0.080000       0.100000       0.070000  \n",
       "75%         8.430000       9.000000       9.000000  \n",
       "max    185960.000000  190873.000000  195875.000000  "
      ]
     },
     "execution_count": 9,
     "metadata": {},
     "output_type": "execute_result"
    }
   ],
   "source": [
    "#Summary Statistics of the dataset\n",
    "df.describe()"
   ]
  },
  {
   "cell_type": "markdown",
   "id": "9a8286fd",
   "metadata": {},
   "source": [
    "#### The mean of Y2017 across the whole dataset to 2 decimal places is 140.92 and the standard deviation to 2 decimal places is 1671.86 respectively."
   ]
  },
  {
   "cell_type": "markdown",
   "id": "aacdd4e4",
   "metadata": {},
   "source": [
    "### Data Cleaning"
   ]
  },
  {
   "cell_type": "code",
   "execution_count": 10,
   "id": "41652cac",
   "metadata": {
    "scrolled": false
   },
   "outputs": [
    {
     "data": {
      "text/plain": [
       "Area Code          0\n",
       "Area               0\n",
       "Item Code          0\n",
       "Item               0\n",
       "Element Code       0\n",
       "Element            0\n",
       "Unit               0\n",
       "Y2014           1589\n",
       "Y2015           1548\n",
       "Y2016           1535\n",
       "Y2017           1506\n",
       "Y2018           1436\n",
       "dtype: int64"
      ]
     },
     "execution_count": 10,
     "metadata": {},
     "output_type": "execute_result"
    }
   ],
   "source": [
    "df.isna().sum()"
   ]
  },
  {
   "cell_type": "markdown",
   "id": "1685b04d",
   "metadata": {},
   "source": [
    "#### The total number of missing data in 2014 to 3 decimal places is 1589."
   ]
  },
  {
   "cell_type": "code",
   "execution_count": 11,
   "id": "94837937",
   "metadata": {},
   "outputs": [
    {
     "data": {
      "text/plain": [
       "(57784, 12)"
      ]
     },
     "execution_count": 11,
     "metadata": {},
     "output_type": "execute_result"
    }
   ],
   "source": [
    "df.dropna().shape"
   ]
  },
  {
   "cell_type": "code",
   "execution_count": 12,
   "id": "ecab7076",
   "metadata": {},
   "outputs": [],
   "source": [
    "df.dropna(inplace=True)"
   ]
  },
  {
   "cell_type": "code",
   "execution_count": 13,
   "id": "831e6983",
   "metadata": {},
   "outputs": [
    {
     "data": {
      "text/plain": [
       "(57784, 12)"
      ]
     },
     "execution_count": 13,
     "metadata": {},
     "output_type": "execute_result"
    }
   ],
   "source": [
    "df.shape"
   ]
  },
  {
   "cell_type": "code",
   "execution_count": 14,
   "id": "cc2dbcfb",
   "metadata": {
    "scrolled": true
   },
   "outputs": [
    {
     "data": {
      "text/plain": [
       "Area Code       0\n",
       "Area            0\n",
       "Item Code       0\n",
       "Item            0\n",
       "Element Code    0\n",
       "Element         0\n",
       "Unit            0\n",
       "Y2014           0\n",
       "Y2015           0\n",
       "Y2016           0\n",
       "Y2017           0\n",
       "Y2018           0\n",
       "dtype: int64"
      ]
     },
     "execution_count": 14,
     "metadata": {},
     "output_type": "execute_result"
    }
   ],
   "source": [
    "df.isna().sum()"
   ]
  },
  {
   "cell_type": "code",
   "execution_count": 15,
   "id": "7307dce5",
   "metadata": {},
   "outputs": [
    {
     "data": {
      "text/plain": [
       "0        False\n",
       "1        False\n",
       "2        False\n",
       "3        False\n",
       "4        False\n",
       "         ...  \n",
       "60938    False\n",
       "60939    False\n",
       "60940    False\n",
       "60941    False\n",
       "60942    False\n",
       "Length: 57784, dtype: bool"
      ]
     },
     "execution_count": 15,
     "metadata": {},
     "output_type": "execute_result"
    }
   ],
   "source": [
    "#Checking if there is duplicate values\n",
    "df.duplicated()"
   ]
  },
  {
   "cell_type": "markdown",
   "id": "5cf426fd",
   "metadata": {},
   "source": [
    "#### The dataset has no duplicate values."
   ]
  },
  {
   "cell_type": "markdown",
   "id": "a401f074",
   "metadata": {},
   "source": [
    "## Exploratory Data Analysis"
   ]
  },
  {
   "cell_type": "code",
   "execution_count": 16,
   "id": "3b7fad43",
   "metadata": {
    "scrolled": true
   },
   "outputs": [
    {
     "data": {
      "text/html": [
       "<div>\n",
       "<style scoped>\n",
       "    .dataframe tbody tr th:only-of-type {\n",
       "        vertical-align: middle;\n",
       "    }\n",
       "\n",
       "    .dataframe tbody tr th {\n",
       "        vertical-align: top;\n",
       "    }\n",
       "\n",
       "    .dataframe thead th {\n",
       "        text-align: right;\n",
       "    }\n",
       "</style>\n",
       "<table border=\"1\" class=\"dataframe\">\n",
       "  <thead>\n",
       "    <tr style=\"text-align: right;\">\n",
       "      <th></th>\n",
       "      <th>Area</th>\n",
       "      <th>Item</th>\n",
       "      <th>Element</th>\n",
       "      <th>Unit</th>\n",
       "    </tr>\n",
       "  </thead>\n",
       "  <tbody>\n",
       "    <tr>\n",
       "      <th>count</th>\n",
       "      <td>60943</td>\n",
       "      <td>60943</td>\n",
       "      <td>60943</td>\n",
       "      <td>60943</td>\n",
       "    </tr>\n",
       "    <tr>\n",
       "      <th>unique</th>\n",
       "      <td>49</td>\n",
       "      <td>119</td>\n",
       "      <td>18</td>\n",
       "      <td>5</td>\n",
       "    </tr>\n",
       "    <tr>\n",
       "      <th>top</th>\n",
       "      <td>Kenya</td>\n",
       "      <td>Milk - Excluding Butter</td>\n",
       "      <td>Domestic supply quantity</td>\n",
       "      <td>1000 tonnes</td>\n",
       "    </tr>\n",
       "    <tr>\n",
       "      <th>freq</th>\n",
       "      <td>1560</td>\n",
       "      <td>1262</td>\n",
       "      <td>5295</td>\n",
       "      <td>40933</td>\n",
       "    </tr>\n",
       "  </tbody>\n",
       "</table>\n",
       "</div>"
      ],
      "text/plain": [
       "         Area                     Item                   Element         Unit\n",
       "count   60943                    60943                     60943        60943\n",
       "unique     49                      119                        18            5\n",
       "top     Kenya  Milk - Excluding Butter  Domestic supply quantity  1000 tonnes\n",
       "freq     1560                     1262                      5295        40933"
      ]
     },
     "execution_count": 16,
     "metadata": {},
     "output_type": "execute_result"
    }
   ],
   "source": [
    "categorical.describe()"
   ]
  },
  {
   "cell_type": "code",
   "execution_count": 17,
   "id": "42c3ba4c",
   "metadata": {
    "scrolled": true
   },
   "outputs": [
    {
     "name": "stdout",
     "output_type": "stream",
     "text": [
      "Kenya                          1521\n",
      "Nigeria                        1438\n",
      "Egypt                          1437\n",
      "Senegal                        1437\n",
      "Côte d'Ivoire                  1431\n",
      "Uganda                         1420\n",
      "Cameroon                       1415\n",
      "Madagascar                     1405\n",
      "Zambia                         1395\n",
      "South Africa                   1391\n",
      "Ethiopia                       1390\n",
      "United Republic of Tanzania    1386\n",
      "Mozambique                     1369\n",
      "Malawi                         1363\n",
      "Rwanda                         1355\n",
      "Angola                         1350\n",
      "Burkina Faso                   1343\n",
      "Botswana                       1342\n",
      "Morocco                        1338\n",
      "Zimbabwe                       1337\n",
      "Congo                          1336\n",
      "Guinea                         1323\n",
      "Mauritius                      1321\n",
      "Ghana                          1311\n",
      "Niger                          1308\n",
      "Tunisia                        1293\n",
      "Namibia                        1247\n",
      "Algeria                        1244\n",
      "Central African Republic       1242\n",
      "Chad                           1232\n",
      "Sudan                          1226\n",
      "Benin                          1212\n",
      "Eswatini                       1206\n",
      "Mali                           1201\n",
      "Togo                           1192\n",
      "Gabon                          1166\n",
      "Cabo Verde                     1161\n",
      "Sierra Leone                   1147\n",
      "Mauritania                     1078\n",
      "Liberia                        1070\n",
      "Sao Tome and Principe          1068\n",
      "Gambia                         1066\n",
      "Lesotho                        1053\n",
      "Djibouti                       1021\n",
      "Guinea-Bissau                   992\n",
      "Seychelles                       68\n",
      "Sudan (former)                   53\n",
      "Comoros                          45\n",
      "Ethiopia PDR                     39\n",
      "Name: Area, dtype: int64\n"
     ]
    }
   ],
   "source": [
    "area_count = df['Area'].value_counts()\n",
    "print(area_count)"
   ]
  },
  {
   "cell_type": "code",
   "execution_count": 18,
   "id": "b88a26ad",
   "metadata": {},
   "outputs": [],
   "source": [
    "top_8_area = area_count[:8]"
   ]
  },
  {
   "cell_type": "code",
   "execution_count": 19,
   "id": "4c8a57fa",
   "metadata": {
    "scrolled": false
   },
   "outputs": [
    {
     "data": {
      "image/png": "[encoded data removed]",
      "text/plain": [
       "<Figure size 1200x800 with 1 Axes>"
      ]
     },
     "metadata": {},
     "output_type": "display_data"
    }
   ],
   "source": [
    "plt.figure(figsize=(12, 8))\n",
    "sns.barplot(x=top_8_area.values, y=top_8_area.index)\n",
    "\n",
    "\n",
    "font1= {'family':'serif', 'color':'black', 'size':15}\n",
    "font2= {'family':'serif', 'color':'red', 'size':15}\n",
    "\n",
    "\n",
    "plt.title('Top 8 Area', fontdict=font1)\n",
    "plt.xlabel('counts', fontdict=font2)\n",
    "plt.ylabel('Area', fontdict=font2)\n",
    "plt.show()"
   ]
  },
  {
   "cell_type": "code",
   "execution_count": 20,
   "id": "db99b2e5",
   "metadata": {
    "scrolled": false
   },
   "outputs": [
    {
     "name": "stdout",
     "output_type": "stream",
     "text": [
      "Milk - Excluding Butter     1234\n",
      "Eggs                        1096\n",
      "Miscellaneous                883\n",
      "Cereals - Excluding Beer     708\n",
      "Oilcrops                     693\n",
      "                            ... \n",
      "Grand Total                  135\n",
      "Animal Products              135\n",
      "Vegetal Products             135\n",
      "Sugar non-centrifugal        113\n",
      "Population                    90\n",
      "Name: Item, Length: 119, dtype: int64\n"
     ]
    }
   ],
   "source": [
    "item_count = df['Item'].value_counts()\n",
    "print(item_count)"
   ]
  },
  {
   "cell_type": "code",
   "execution_count": 21,
   "id": "6d7f4d18",
   "metadata": {},
   "outputs": [],
   "source": [
    "top_10_item = item_count[:10]"
   ]
  },
  {
   "cell_type": "code",
   "execution_count": 22,
   "id": "e9bbfeff",
   "metadata": {},
   "outputs": [
    {
     "data": {
      "image/png": "[encoded data removed]",
      "text/plain": [
       "<Figure size 1200x800 with 1 Axes>"
      ]
     },
     "metadata": {},
     "output_type": "display_data"
    }
   ],
   "source": [
    "plt.figure(figsize=(12, 8))\n",
    "sns.barplot(x=top_10_item.values, y=top_10_item.index)\n",
    "\n",
    "\n",
    "font1= {'family':'serif', 'color':'black', 'size':15}\n",
    "font2= {'family':'serif', 'color':'red', 'size':15}\n",
    "\n",
    "\n",
    "plt.title('Top 10 Item', fontdict=font1)\n",
    "plt.xlabel('counts', fontdict=font2)\n",
    "plt.ylabel('Item', fontdict=font2)\n",
    "plt.show()"
   ]
  },
  {
   "cell_type": "code",
   "execution_count": 23,
   "id": "340f3df5",
   "metadata": {
    "scrolled": true
   },
   "outputs": [
    {
     "name": "stdout",
     "output_type": "stream",
     "text": [
      "Domestic supply quantity                  5213\n",
      "Fat supply quantity (g/capita/day)        4928\n",
      "Protein supply quantity (g/capita/day)    4925\n",
      "Food supply (kcal/capita/day)             4905\n",
      "Food                                      4866\n",
      "Food supply quantity (kg/capita/yr)       4830\n",
      "Import Quantity                           4652\n",
      "Residuals                                 4573\n",
      "Stock Variation                           4215\n",
      "Production                                3805\n",
      "Export Quantity                           2914\n",
      "Losses                                    2008\n",
      "Processing                                1978\n",
      "Other uses (non-food)                     1525\n",
      "Feed                                      1089\n",
      "Seed                                       758\n",
      "Tourist consumption                        555\n",
      "Total Population - Both sexes               45\n",
      "Name: Element, dtype: int64\n"
     ]
    }
   ],
   "source": [
    "element_count = df['Element'].value_counts()\n",
    "print(element_count)"
   ]
  },
  {
   "cell_type": "code",
   "execution_count": 24,
   "id": "47dd63f1",
   "metadata": {},
   "outputs": [],
   "source": [
    "top_5_element = element_count[:5]"
   ]
  },
  {
   "cell_type": "code",
   "execution_count": 25,
   "id": "c0a8826b",
   "metadata": {},
   "outputs": [
    {
     "data": {
      "image/png": "[encoded data removed]",
      "text/plain": [
       "<Figure size 1200x800 with 1 Axes>"
      ]
     },
     "metadata": {},
     "output_type": "display_data"
    }
   ],
   "source": [
    "plt.figure(figsize=(12, 8))\n",
    "sns.barplot(x=top_5_element.values, y=top_5_element.index)\n",
    "\n",
    "\n",
    "font1= {'family':'serif', 'color':'black', 'size':15}\n",
    "font2= {'family':'serif', 'color':'red', 'size':15}\n",
    "\n",
    "\n",
    "plt.title('Top 5 Element', fontdict=font1)\n",
    "plt.xlabel('counts', fontdict=font2)\n",
    "plt.ylabel('Element', fontdict=font2)\n",
    "plt.show()"
   ]
  },
  {
   "cell_type": "code",
   "execution_count": 26,
   "id": "6b1afd79",
   "metadata": {
    "scrolled": false
   },
   "outputs": [
    {
     "data": {
      "text/plain": [
       "1000 tonnes        38151\n",
       "g/capita/day        9853\n",
       "kcal/capita/day     4905\n",
       "kg                  4830\n",
       "1000 persons          45\n",
       "Name: Unit, dtype: int64"
      ]
     },
     "execution_count": 26,
     "metadata": {},
     "output_type": "execute_result"
    }
   ],
   "source": [
    "df['Unit'].value_counts()"
   ]
  },
  {
   "cell_type": "code",
   "execution_count": 27,
   "id": "4b944cbc",
   "metadata": {},
   "outputs": [
    {
     "data": {
      "image/png": "[encoded data removed]",
      "text/plain": [
       "<Figure size 640x480 with 1 Axes>"
      ]
     },
     "metadata": {},
     "output_type": "display_data"
    }
   ],
   "source": [
    "sns.countplot(x = 'Unit',data= df)\n",
    "\n",
    "font1= {'family':'serif', 'color':'black', 'size':15}\n",
    "font2= {'family':'serif', 'color':'red', 'size':15}\n",
    "\n",
    "plt.title('Count Plot showing Unit', fontdict=font1)\n",
    "plt.xlabel('Unit', fontdict=font2)\n",
    "plt.ylabel('counts', fontdict=font2)\n",
    "\n",
    "plt.xticks(rotation = 90)\n",
    "\n",
    "plt.show()"
   ]
  },
  {
   "cell_type": "markdown",
   "id": "df89feb9",
   "metadata": {},
   "source": [
    "### What is the Total number of unique countries in the dataset?"
   ]
  },
  {
   "cell_type": "code",
   "execution_count": 28,
   "id": "fc837d88",
   "metadata": {
    "scrolled": true
   },
   "outputs": [
    {
     "name": "stdout",
     "output_type": "stream",
     "text": [
      "Total number of unique countries in the dataset: 49\n"
     ]
    }
   ],
   "source": [
    "unique_countries_count = df['Area'].nunique()\n",
    "print(f'Total number of unique countries in the dataset: {unique_countries_count}')"
   ]
  },
  {
   "cell_type": "markdown",
   "id": "1dccc19d",
   "metadata": {},
   "source": [
    "### Which of these Area had the highest sum in 2017"
   ]
  },
  {
   "cell_type": "code",
   "execution_count": 29,
   "id": "c0b35f1d",
   "metadata": {},
   "outputs": [],
   "source": [
    "#Selecting columns 'Y2017' and 'Area' \n",
    "selected_columns = df[['Y2017', 'Area']] "
   ]
  },
  {
   "cell_type": "code",
   "execution_count": 30,
   "id": "d4854f0c",
   "metadata": {},
   "outputs": [],
   "source": [
    "#Performing a groupby operation on 'Area'\n",
    "grouped_data = selected_columns.groupby('Area')['Y2017'].sum().reset_index()\n",
    "\n",
    "max_area = grouped_data.loc[grouped_data['Y2017'].idxmax()]"
   ]
  },
  {
   "cell_type": "code",
   "execution_count": 31,
   "id": "b727f233",
   "metadata": {
    "scrolled": true
   },
   "outputs": [
    {
     "name": "stdout",
     "output_type": "stream",
     "text": [
      "Area with the highest sum in 2017: Nigeria\n",
      "Sum in 2017: 1483106.23\n"
     ]
    }
   ],
   "source": [
    "print(f\"Area with the highest sum in 2017: {max_area['Area']}\")\n",
    "print(f\"Sum in 2017: {max_area['Y2017']}\")"
   ]
  },
  {
   "cell_type": "markdown",
   "id": "4c18b7c1",
   "metadata": {},
   "source": [
    "### What is the total number of the sum of Processing in 2017?"
   ]
  },
  {
   "cell_type": "code",
   "execution_count": 32,
   "id": "7c46b0a4",
   "metadata": {
    "scrolled": false
   },
   "outputs": [
    {
     "name": "stdout",
     "output_type": "stream",
     "text": [
      "Total sum of processing in 2017:\n",
      "      Element     Y2017\n",
      "0  Processing  292826.0\n"
     ]
    }
   ],
   "source": [
    "# Group by 'Element' column and sum the 'Y2017' values for 'Processing' element\n",
    "processing_2017_sum = df[df['Element'] == 'Processing'].groupby('Element')['Y2017'].sum().reset_index()\n",
    "\n",
    "# Print the total sum of processing in 2017\n",
    "print(\"Total sum of processing in 2017:\")\n",
    "print(processing_2017_sum)"
   ]
  },
  {
   "cell_type": "markdown",
   "id": "459977c0",
   "metadata": {},
   "source": [
    "### Which of these Areas  had the 7th lowest sum in 2017"
   ]
  },
  {
   "cell_type": "code",
   "execution_count": 33,
   "id": "37973dcd",
   "metadata": {},
   "outputs": [
    {
     "name": "stdout",
     "output_type": "stream",
     "text": [
      "7th Lowest Sum in 2017: 19095.16\n",
      "Area with 7th Lowest Sum in 2017: Guinea-Bissau\n"
     ]
    }
   ],
   "source": [
    "# Select columns Y2017 and Area\n",
    "selected_columns = df[['Y2017', 'Area']]\n",
    "\n",
    "# Group by 'Area' and calculate the sum for 'Y2017'\n",
    "grouped_data = selected_columns.groupby('Area')['Y2017'].sum().reset_index()\n",
    "\n",
    "# Sort the data by the sum in ascending order\n",
    "sorted_data = grouped_data.sort_values(by='Y2017', ascending=True)\n",
    "\n",
    "# Find the 7th lowest sum and the corresponding area\n",
    "seventh_lowest_sum = sorted_data.iloc[6]['Y2017']\n",
    "seventh_lowest_area = sorted_data.iloc[6]['Area']\n",
    "\n",
    "print(\"7th Lowest Sum in 2017:\", seventh_lowest_sum)\n",
    "print(\"Area with 7th Lowest Sum in 2017:\", seventh_lowest_area)"
   ]
  },
  {
   "cell_type": "markdown",
   "id": "2a7a2568",
   "metadata": {},
   "source": [
    "### What year has the highest sum of Stock Variation?"
   ]
  },
  {
   "cell_type": "code",
   "execution_count": 34,
   "id": "31a7dd04",
   "metadata": {
    "scrolled": true
   },
   "outputs": [
    {
     "name": "stdout",
     "output_type": "stream",
     "text": [
      "The year with the highest sum of stock variation is Y2014 with a total sum of 58752.83.\n"
     ]
    }
   ],
   "source": [
    "# Group by 'Element' column and sum the stock variation for each year\n",
    "stock_variation_by_year = df[df['Element'] == 'Stock Variation'].groupby('Element')[['Y2014', 'Y2015', 'Y2016', 'Y2017', 'Y2018']].sum()\n",
    "\n",
    "# Finding the year with the highest sum of stock variation\n",
    "year_with_highest_stock_variation = stock_variation_by_year.idxmax(axis=1).values[0]\n",
    "\n",
    "# Get the highest sum of stock variation\n",
    "highest_stock_variation_sum = stock_variation_by_year.max(axis=1).values[0]\n",
    "\n",
    "# Print the result\n",
    "print(f\"The year with the highest sum of stock variation is {year_with_highest_stock_variation} with a total sum of {highest_stock_variation_sum}.\")"
   ]
  },
  {
   "cell_type": "markdown",
   "id": "2eb65525",
   "metadata": {},
   "source": [
    "### What is the total Protein supply quantity in Madagascar in 2015?"
   ]
  },
  {
   "cell_type": "code",
   "execution_count": 35,
   "id": "a0c67b10",
   "metadata": {},
   "outputs": [
    {
     "name": "stdout",
     "output_type": "stream",
     "text": [
      "Total protein supply quantity in Madagascar in 2015: 173.04999999999998 grams per capita per day\n"
     ]
    }
   ],
   "source": [
    "madagascar_2015_protein = df[(df['Area'] == 'Madagascar') & (df['Element'] == 'Protein supply quantity (g/capita/day)')]['Y2015'].sum()\n",
    "\n",
    "# Print the result\n",
    "print(f\"Total protein supply quantity in Madagascar in 2015: {madagascar_2015_protein} grams per capita per day\")"
   ]
  },
  {
   "cell_type": "markdown",
   "id": "0255736d",
   "metadata": {},
   "source": [
    "### Which year had the least correlation with Element Code"
   ]
  },
  {
   "cell_type": "code",
   "execution_count": 36,
   "id": "a476f6d7",
   "metadata": {},
   "outputs": [
    {
     "data": {
      "image/png": "[encoded data removed]",
      "text/plain": [
       "<Figure size 1000x800 with 2 Axes>"
      ]
     },
     "metadata": {},
     "output_type": "display_data"
    }
   ],
   "source": [
    "correlation_matrix = df.corr(numeric_only=True)\n",
    "# Create a heatmap of the correlation matrix\n",
    "plt.figure(figsize=(10, 8))  # Adjust the figure size as needed\n",
    "sns.heatmap(correlation_matrix, annot=True, cmap='coolwarm', fmt=\".2f\")\n",
    "\n",
    "# Display the heatmap\n",
    "plt.title(\"Correlation Matrix Heatmap\")\n",
    "plt.show()"
   ]
  },
  {
   "cell_type": "code",
   "execution_count": 37,
   "id": "e997bb77",
   "metadata": {},
   "outputs": [
    {
     "name": "stdout",
     "output_type": "stream",
     "text": [
      "The year with the least correlation with 'Element code' is Y2016 with a correlation of 0.02508037233830874.\n"
     ]
    }
   ],
   "source": [
    "relevant_columns = ['Element Code', 'Y2014', 'Y2015', 'Y2016', 'Y2017', 'Y2018']\n",
    "data_subset = df[relevant_columns]\n",
    "\n",
    "# Calculate correlations between \"Element code\" and each year\n",
    "correlations = data_subset.corr().loc['Element Code'][1:]\n",
    "\n",
    "# Find the year with the least correlation\n",
    "year_with_least_correlation = correlations.idxmin()\n",
    "least_correlation_value = correlations.min()\n",
    "\n",
    "# Print the result\n",
    "print(f\"The year with the least correlation with 'Element code' is {year_with_least_correlation} with a correlation of {least_correlation_value}.\")\n"
   ]
  },
  {
   "cell_type": "markdown",
   "id": "47e18d84",
   "metadata": {},
   "source": [
    "### What is the total sum of Wine produced in 2015 and 2018?"
   ]
  },
  {
   "cell_type": "code",
   "execution_count": 38,
   "id": "4a1b871f",
   "metadata": {},
   "outputs": [
    {
     "name": "stdout",
     "output_type": "stream",
     "text": [
      "Total Wine Produced in 2015: 4250.81\n",
      "Total Wine Produced in 2018: 4035.32\n"
     ]
    }
   ],
   "source": [
    "# Select columns 'Item', 'Y2015', and 'Y2018'\n",
    "selected_columns = df[['Item', 'Y2015', 'Y2018']]\n",
    "\n",
    "# Group by 'Item' and calculate the sum for 'Y2015' and 'Y2018'\n",
    "wine_production_sum = selected_columns.groupby('Item').agg({'Y2015': 'sum', 'Y2018': 'sum'})\n",
    "\n",
    "# Extract the sum for wine produced in 2015 and 2018\n",
    "sum_wine_2015 = wine_production_sum['Y2015']['Wine']\n",
    "sum_wine_2018 = wine_production_sum['Y2018']['Wine']\n",
    "\n",
    "print(\"Total Wine Produced in 2015:\", sum_wine_2015)\n",
    "print(\"Total Wine Produced in 2018:\", sum_wine_2018)"
   ]
  },
  {
   "cell_type": "code",
   "execution_count": null,
   "id": "996236d0",
   "metadata": {},
   "outputs": [],
   "source": []
  }
 ],
 "metadata": {
  "kernelspec": {
   "display_name": "Python 3 (ipykernel)",
   "language": "python",
   "name": "python3"
  },
  "language_info": {
   "codemirror_mode": {
    "name": "ipython",
    "version": 3
   },
   "file_extension": ".py",
   "mimetype": "text/x-python",
   "name": "python",
   "nbconvert_exporter": "python",
   "pygments_lexer": "ipython3",
   "version": "3.11.4"
  }
 },
 "nbformat": 4,
 "nbformat_minor": 5
}
